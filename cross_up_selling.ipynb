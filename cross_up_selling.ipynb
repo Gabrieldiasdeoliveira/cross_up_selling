{
  "nbformat": 4,
  "nbformat_minor": 0,
  "metadata": {
    "colab": {
      "provenance": [],
      "collapsed_sections": [
        "xIdA_N82JFYc"
      ],
      "authorship_tag": "ABX9TyPHfG5or+uhUuxDxz0KwnU/",
      "include_colab_link": true
    },
    "kernelspec": {
      "name": "python3",
      "display_name": "Python 3"
    },
    "language_info": {
      "name": "python"
    }
  },
  "cells": [
    {
      "cell_type": "markdown",
      "metadata": {
        "id": "view-in-github",
        "colab_type": "text"
      },
      "source": [
        "<a href=\"https://colab.research.google.com/github/Gabrieldiasdeoliveira/cross_up_selling/blob/main/cross_up_selling.ipynb\" target=\"_parent\"><img src=\"https://colab.research.google.com/assets/colab-badge.svg\" alt=\"Open In Colab\"/></a>"
      ]
    },
    {
      "cell_type": "markdown",
      "source": [
        "*Nesse notebock vou desenvolver uma analise em cima de um dataset que contém informações sobre transações de compras em um supermercado online, incluindo quais produtos foram comprados juntos.\n",
        "A idéia é analisar cross-selling e upselling com base nos padrões de compras dos clientes.*\n"
      ],
      "metadata": {
        "id": "1R9hYcVG863d"
      }
    },
    {
      "cell_type": "markdown",
      "source": [
        "#Dowload das bases do kaggle"
      ],
      "metadata": {
        "id": "HFL6FGevDq6d"
      }
    },
    {
      "cell_type": "markdown",
      "source": [
        "Nessa etava vamos acessar o dataset e fazer o dowload das bases"
      ],
      "metadata": {
        "id": "VmvYR728EZEM"
      }
    },
    {
      "cell_type": "code",
      "source": [
        "from google.colab import files"
      ],
      "metadata": {
        "id": "ACpbmjRQCb36"
      },
      "execution_count": 6,
      "outputs": []
    },
    {
      "cell_type": "code",
      "source": [
        "files.upload()"
      ],
      "metadata": {
        "colab": {
          "base_uri": "https://localhost:8080/",
          "height": 90
        },
        "id": "nFro9v-4CgXl",
        "outputId": "1be55763-0f2a-4a0c-9f11-e2b67351418c"
      },
      "execution_count": 7,
      "outputs": [
        {
          "output_type": "display_data",
          "data": {
            "text/plain": [
              "<IPython.core.display.HTML object>"
            ],
            "text/html": [
              "\n",
              "     <input type=\"file\" id=\"files-b93022a2-116f-4c6a-8327-ae0653e3028e\" name=\"files[]\" multiple disabled\n",
              "        style=\"border:none\" />\n",
              "     <output id=\"result-b93022a2-116f-4c6a-8327-ae0653e3028e\">\n",
              "      Upload widget is only available when the cell has been executed in the\n",
              "      current browser session. Please rerun this cell to enable.\n",
              "      </output>\n",
              "      <script>// Copyright 2017 Google LLC\n",
              "//\n",
              "// Licensed under the Apache License, Version 2.0 (the \"License\");\n",
              "// you may not use this file except in compliance with the License.\n",
              "// You may obtain a copy of the License at\n",
              "//\n",
              "//      http://www.apache.org/licenses/LICENSE-2.0\n",
              "//\n",
              "// Unless required by applicable law or agreed to in writing, software\n",
              "// distributed under the License is distributed on an \"AS IS\" BASIS,\n",
              "// WITHOUT WARRANTIES OR CONDITIONS OF ANY KIND, either express or implied.\n",
              "// See the License for the specific language governing permissions and\n",
              "// limitations under the License.\n",
              "\n",
              "/**\n",
              " * @fileoverview Helpers for google.colab Python module.\n",
              " */\n",
              "(function(scope) {\n",
              "function span(text, styleAttributes = {}) {\n",
              "  const element = document.createElement('span');\n",
              "  element.textContent = text;\n",
              "  for (const key of Object.keys(styleAttributes)) {\n",
              "    element.style[key] = styleAttributes[key];\n",
              "  }\n",
              "  return element;\n",
              "}\n",
              "\n",
              "// Max number of bytes which will be uploaded at a time.\n",
              "const MAX_PAYLOAD_SIZE = 100 * 1024;\n",
              "\n",
              "function _uploadFiles(inputId, outputId) {\n",
              "  const steps = uploadFilesStep(inputId, outputId);\n",
              "  const outputElement = document.getElementById(outputId);\n",
              "  // Cache steps on the outputElement to make it available for the next call\n",
              "  // to uploadFilesContinue from Python.\n",
              "  outputElement.steps = steps;\n",
              "\n",
              "  return _uploadFilesContinue(outputId);\n",
              "}\n",
              "\n",
              "// This is roughly an async generator (not supported in the browser yet),\n",
              "// where there are multiple asynchronous steps and the Python side is going\n",
              "// to poll for completion of each step.\n",
              "// This uses a Promise to block the python side on completion of each step,\n",
              "// then passes the result of the previous step as the input to the next step.\n",
              "function _uploadFilesContinue(outputId) {\n",
              "  const outputElement = document.getElementById(outputId);\n",
              "  const steps = outputElement.steps;\n",
              "\n",
              "  const next = steps.next(outputElement.lastPromiseValue);\n",
              "  return Promise.resolve(next.value.promise).then((value) => {\n",
              "    // Cache the last promise value to make it available to the next\n",
              "    // step of the generator.\n",
              "    outputElement.lastPromiseValue = value;\n",
              "    return next.value.response;\n",
              "  });\n",
              "}\n",
              "\n",
              "/**\n",
              " * Generator function which is called between each async step of the upload\n",
              " * process.\n",
              " * @param {string} inputId Element ID of the input file picker element.\n",
              " * @param {string} outputId Element ID of the output display.\n",
              " * @return {!Iterable<!Object>} Iterable of next steps.\n",
              " */\n",
              "function* uploadFilesStep(inputId, outputId) {\n",
              "  const inputElement = document.getElementById(inputId);\n",
              "  inputElement.disabled = false;\n",
              "\n",
              "  const outputElement = document.getElementById(outputId);\n",
              "  outputElement.innerHTML = '';\n",
              "\n",
              "  const pickedPromise = new Promise((resolve) => {\n",
              "    inputElement.addEventListener('change', (e) => {\n",
              "      resolve(e.target.files);\n",
              "    });\n",
              "  });\n",
              "\n",
              "  const cancel = document.createElement('button');\n",
              "  inputElement.parentElement.appendChild(cancel);\n",
              "  cancel.textContent = 'Cancel upload';\n",
              "  const cancelPromise = new Promise((resolve) => {\n",
              "    cancel.onclick = () => {\n",
              "      resolve(null);\n",
              "    };\n",
              "  });\n",
              "\n",
              "  // Wait for the user to pick the files.\n",
              "  const files = yield {\n",
              "    promise: Promise.race([pickedPromise, cancelPromise]),\n",
              "    response: {\n",
              "      action: 'starting',\n",
              "    }\n",
              "  };\n",
              "\n",
              "  cancel.remove();\n",
              "\n",
              "  // Disable the input element since further picks are not allowed.\n",
              "  inputElement.disabled = true;\n",
              "\n",
              "  if (!files) {\n",
              "    return {\n",
              "      response: {\n",
              "        action: 'complete',\n",
              "      }\n",
              "    };\n",
              "  }\n",
              "\n",
              "  for (const file of files) {\n",
              "    const li = document.createElement('li');\n",
              "    li.append(span(file.name, {fontWeight: 'bold'}));\n",
              "    li.append(span(\n",
              "        `(${file.type || 'n/a'}) - ${file.size} bytes, ` +\n",
              "        `last modified: ${\n",
              "            file.lastModifiedDate ? file.lastModifiedDate.toLocaleDateString() :\n",
              "                                    'n/a'} - `));\n",
              "    const percent = span('0% done');\n",
              "    li.appendChild(percent);\n",
              "\n",
              "    outputElement.appendChild(li);\n",
              "\n",
              "    const fileDataPromise = new Promise((resolve) => {\n",
              "      const reader = new FileReader();\n",
              "      reader.onload = (e) => {\n",
              "        resolve(e.target.result);\n",
              "      };\n",
              "      reader.readAsArrayBuffer(file);\n",
              "    });\n",
              "    // Wait for the data to be ready.\n",
              "    let fileData = yield {\n",
              "      promise: fileDataPromise,\n",
              "      response: {\n",
              "        action: 'continue',\n",
              "      }\n",
              "    };\n",
              "\n",
              "    // Use a chunked sending to avoid message size limits. See b/62115660.\n",
              "    let position = 0;\n",
              "    do {\n",
              "      const length = Math.min(fileData.byteLength - position, MAX_PAYLOAD_SIZE);\n",
              "      const chunk = new Uint8Array(fileData, position, length);\n",
              "      position += length;\n",
              "\n",
              "      const base64 = btoa(String.fromCharCode.apply(null, chunk));\n",
              "      yield {\n",
              "        response: {\n",
              "          action: 'append',\n",
              "          file: file.name,\n",
              "          data: base64,\n",
              "        },\n",
              "      };\n",
              "\n",
              "      let percentDone = fileData.byteLength === 0 ?\n",
              "          100 :\n",
              "          Math.round((position / fileData.byteLength) * 100);\n",
              "      percent.textContent = `${percentDone}% done`;\n",
              "\n",
              "    } while (position < fileData.byteLength);\n",
              "  }\n",
              "\n",
              "  // All done.\n",
              "  yield {\n",
              "    response: {\n",
              "      action: 'complete',\n",
              "    }\n",
              "  };\n",
              "}\n",
              "\n",
              "scope.google = scope.google || {};\n",
              "scope.google.colab = scope.google.colab || {};\n",
              "scope.google.colab._files = {\n",
              "  _uploadFiles,\n",
              "  _uploadFilesContinue,\n",
              "};\n",
              "})(self);\n",
              "</script> "
            ]
          },
          "metadata": {}
        },
        {
          "output_type": "stream",
          "name": "stdout",
          "text": [
            "Saving kaggle.json to kaggle (1).json\n"
          ]
        },
        {
          "output_type": "execute_result",
          "data": {
            "text/plain": [
              "{'kaggle (1).json': b'{\"username\":\"gabrielestatistico\",\"key\":\"0c5e3e674729d6c445c0e7b78b9c74ea\"}'}"
            ]
          },
          "metadata": {},
          "execution_count": 7
        }
      ]
    },
    {
      "cell_type": "code",
      "source": [
        "pip install kaggle -q"
      ],
      "metadata": {
        "id": "yqIHrqhKCyo-"
      },
      "execution_count": 8,
      "outputs": []
    },
    {
      "cell_type": "code",
      "source": [
        "!mkdir -p ~/.kaggle"
      ],
      "metadata": {
        "id": "D01NE7xWDC78"
      },
      "execution_count": 9,
      "outputs": []
    },
    {
      "cell_type": "code",
      "source": [
        "!cp kaggle.json ~/.kaggle/"
      ],
      "metadata": {
        "id": "6yd8xcgdDFbj"
      },
      "execution_count": 10,
      "outputs": []
    },
    {
      "cell_type": "code",
      "source": [
        "#!mv kaggle.json ~/.kaggle/"
      ],
      "metadata": {
        "id": "g_5qD3reDLAS"
      },
      "execution_count": 11,
      "outputs": []
    },
    {
      "cell_type": "code",
      "source": [
        "!chmod 600 ~/.kaggle/kaggle.json"
      ],
      "metadata": {
        "id": "RE19_xWm9-1w"
      },
      "execution_count": 12,
      "outputs": []
    },
    {
      "cell_type": "code",
      "source": [
        "!kaggle competitions download -c instacart-market-basket-analysis\n"
      ],
      "metadata": {
        "colab": {
          "base_uri": "https://localhost:8080/"
        },
        "id": "Ij5UkkR4-BIE",
        "outputId": "582482be-a045-40d4-cfb7-e7296f37481b"
      },
      "execution_count": 13,
      "outputs": [
        {
          "output_type": "stream",
          "name": "stdout",
          "text": [
            "instacart-market-basket-analysis.zip: Skipping, found more recently modified local copy (use --force to force download)\n"
          ]
        }
      ]
    },
    {
      "cell_type": "code",
      "source": [
        "# extraindo todos os arquivos do dataset\n",
        "!unzip -o instacart-market-basket-analysis.zip\n"
      ],
      "metadata": {
        "colab": {
          "base_uri": "https://localhost:8080/"
        },
        "id": "lXMrGStpERcc",
        "outputId": "7dc436ed-9aaa-4433-d1f1-bc5cd43389e8"
      },
      "execution_count": 14,
      "outputs": [
        {
          "output_type": "stream",
          "name": "stdout",
          "text": [
            "Archive:  instacart-market-basket-analysis.zip\n",
            "  inflating: aisles.csv.zip          \n",
            "  inflating: departments.csv.zip     \n",
            "  inflating: order_products__prior.csv.zip  \n",
            "  inflating: order_products__train.csv.zip  \n",
            "  inflating: orders.csv.zip          \n",
            "  inflating: products.csv.zip        \n",
            "  inflating: sample_submission.csv.zip  \n"
          ]
        }
      ]
    },
    {
      "cell_type": "code",
      "source": [
        "# Descompactando os arquivos\n",
        "import zipfile\n",
        "import os\n",
        "\n",
        "# Lista de arquivos .csv.zip para descompactar\n",
        "zip_files = [\n",
        "    \"aisles.csv.zip\",\n",
        "    \"departments.csv.zip\",\n",
        "    \"order_products__prior.csv.zip\",\n",
        "    \"order_products__train.csv.zip\",\n",
        "    \"orders.csv.zip\",\n",
        "    \"products.csv.zip\",\n",
        "    \"sample_submission.csv.zip\"\n",
        "]\n",
        "\n",
        "# Descompacta cada arquivo .csv.zip\n",
        "for file in zip_files:\n",
        "    with zipfile.ZipFile(file, 'r') as zip_ref:\n",
        "        zip_ref.extractall()\n"
      ],
      "metadata": {
        "collapsed": true,
        "id": "Hom6E_H9FLQI"
      },
      "execution_count": 15,
      "outputs": []
    },
    {
      "cell_type": "code",
      "source": [
        "import pandas as pd\n",
        "\n",
        "# Leitura dos arquivos CSV\n",
        "aisles = pd.read_csv('aisles.csv')\n",
        "departments = pd.read_csv('departments.csv')\n",
        "order_products_prior = pd.read_csv('order_products__prior.csv')\n",
        "order_products_train = pd.read_csv('order_products__train.csv')\n",
        "orders = pd.read_csv('orders.csv')\n",
        "products = pd.read_csv('products.csv')\n",
        "sample_submission = pd.read_csv('sample_submission.csv')\n",
        "\n",
        "\n"
      ],
      "metadata": {
        "collapsed": true,
        "id": "a6wgSVQMF0kp"
      },
      "execution_count": 17,
      "outputs": []
    },
    {
      "cell_type": "markdown",
      "source": [
        "# Visualização"
      ],
      "metadata": {
        "id": "xIdA_N82JFYc"
      }
    },
    {
      "cell_type": "code",
      "source": [
        "# Exibindo as primeiras linhas de cada DataFrame para verificar\n",
        "print(\"aisles:\")\n",
        "print(aisles.head(), \"\\n\")\n"
      ],
      "metadata": {
        "colab": {
          "base_uri": "https://localhost:8080/"
        },
        "id": "anABQyQ_F9gh",
        "outputId": "3fc723fd-d278-4ed0-c933-5f0a65fabf10"
      },
      "execution_count": 26,
      "outputs": [
        {
          "output_type": "stream",
          "name": "stdout",
          "text": [
            "aisles:\n",
            "   aisle_id                       aisle\n",
            "0         1       prepared soups salads\n",
            "1         2           specialty cheeses\n",
            "2         3         energy granola bars\n",
            "3         4               instant foods\n",
            "4         5  marinades meat preparation \n",
            "\n"
          ]
        }
      ]
    },
    {
      "cell_type": "code",
      "source": [
        "# Exibindo as primeiras linhas de cada DataFrame para verificar\n",
        "print(\"departments:\")\n",
        "print(departments.head(), \"\\n\")"
      ],
      "metadata": {
        "colab": {
          "base_uri": "https://localhost:8080/"
        },
        "id": "9NiWHj5nPQZH",
        "outputId": "e87264b8-67a4-4cb6-f825-256f4ca81dc5"
      },
      "execution_count": 19,
      "outputs": [
        {
          "output_type": "stream",
          "name": "stdout",
          "text": [
            "departments:\n",
            "   department_id department\n",
            "0              1     frozen\n",
            "1              2      other\n",
            "2              3     bakery\n",
            "3              4    produce\n",
            "4              5    alcohol \n",
            "\n"
          ]
        }
      ]
    },
    {
      "cell_type": "code",
      "source": [
        "# Exibindo as primeiras linhas de cada DataFrame para verificar\n",
        "print(\"order_products_prior:\")\n",
        "print(order_products_prior.head(), \"\\n\")"
      ],
      "metadata": {
        "colab": {
          "base_uri": "https://localhost:8080/"
        },
        "id": "HtAXSE6IH9If",
        "outputId": "777058ff-a7f2-4283-cb1d-7ecc9801a3b2"
      },
      "execution_count": 20,
      "outputs": [
        {
          "output_type": "stream",
          "name": "stdout",
          "text": [
            "order_products_prior:\n",
            "   order_id  product_id  add_to_cart_order  reordered\n",
            "0         2       33120                  1          1\n",
            "1         2       28985                  2          1\n",
            "2         2        9327                  3          0\n",
            "3         2       45918                  4          1\n",
            "4         2       30035                  5          0 \n",
            "\n"
          ]
        }
      ]
    },
    {
      "cell_type": "code",
      "source": [
        "# Exibindo as primeiras linhas de cada DataFrame para verificar\n",
        "print(\"order_products_train:\")\n",
        "print(order_products_train.head(), \"\\n\")"
      ],
      "metadata": {
        "colab": {
          "base_uri": "https://localhost:8080/"
        },
        "id": "BDekgWe9H9lg",
        "outputId": "9792861e-f91e-4d09-f5a7-dff43856f312"
      },
      "execution_count": 21,
      "outputs": [
        {
          "output_type": "stream",
          "name": "stdout",
          "text": [
            "order_products_train:\n",
            "   order_id  product_id  add_to_cart_order  reordered\n",
            "0         1       49302                  1          1\n",
            "1         1       11109                  2          1\n",
            "2         1       10246                  3          0\n",
            "3         1       49683                  4          0\n",
            "4         1       43633                  5          1 \n",
            "\n"
          ]
        }
      ]
    },
    {
      "cell_type": "code",
      "source": [
        "# Exibindo as primeiras linhas de cada DataFrame para verificar\n",
        "print(\"orders:\")\n",
        "print(orders.head(), \"\\n\")"
      ],
      "metadata": {
        "colab": {
          "base_uri": "https://localhost:8080/"
        },
        "id": "V7f6i67KPb72",
        "outputId": "a92bb95a-15ce-4c41-c210-75206723d8db"
      },
      "execution_count": 22,
      "outputs": [
        {
          "output_type": "stream",
          "name": "stdout",
          "text": [
            "orders:\n",
            "   order_id  user_id eval_set  order_number  order_dow  order_hour_of_day  \\\n",
            "0   2539329        1    prior             1          2                  8   \n",
            "1   2398795        1    prior             2          3                  7   \n",
            "2    473747        1    prior             3          3                 12   \n",
            "3   2254736        1    prior             4          4                  7   \n",
            "4    431534        1    prior             5          4                 15   \n",
            "\n",
            "   days_since_prior_order  \n",
            "0                     NaN  \n",
            "1                    15.0  \n",
            "2                    21.0  \n",
            "3                    29.0  \n",
            "4                    28.0   \n",
            "\n"
          ]
        }
      ]
    },
    {
      "cell_type": "code",
      "source": [
        "# Exibindo as primeiras linhas de cada DataFrame para verificar\n",
        "print(\"products:\")\n",
        "print(products.head(), \"\\n\")"
      ],
      "metadata": {
        "colab": {
          "base_uri": "https://localhost:8080/"
        },
        "id": "g6UoSwPQHjNi",
        "outputId": "2a2e52fa-2c8a-4ded-de53-7cbadb0ed902"
      },
      "execution_count": 23,
      "outputs": [
        {
          "output_type": "stream",
          "name": "stdout",
          "text": [
            "products:\n",
            "   product_id                                       product_name  aisle_id  \\\n",
            "0           1                         Chocolate Sandwich Cookies        61   \n",
            "1           2                                   All-Seasons Salt       104   \n",
            "2           3               Robust Golden Unsweetened Oolong Tea        94   \n",
            "3           4  Smart Ones Classic Favorites Mini Rigatoni Wit...        38   \n",
            "4           5                          Green Chile Anytime Sauce         5   \n",
            "\n",
            "   department_id  \n",
            "0             19  \n",
            "1             13  \n",
            "2              7  \n",
            "3              1  \n",
            "4             13   \n",
            "\n"
          ]
        }
      ]
    },
    {
      "cell_type": "code",
      "source": [
        "# Exibindo as primeiras linhas de cada DataFrame para verificar\n",
        "print(\"sample_submission:\")\n",
        "print(sample_submission.head(), \"\\n\")"
      ],
      "metadata": {
        "colab": {
          "base_uri": "https://localhost:8080/"
        },
        "id": "HZWigZdSII5t",
        "outputId": "3cf80117-7f7d-4156-b5ee-06bdd1326fb2"
      },
      "execution_count": 24,
      "outputs": [
        {
          "output_type": "stream",
          "name": "stdout",
          "text": [
            "sample_submission:\n",
            "   order_id     products\n",
            "0        17  39276 29259\n",
            "1        34  39276 29259\n",
            "2       137  39276 29259\n",
            "3       182  39276 29259\n",
            "4       257  39276 29259 \n",
            "\n"
          ]
        }
      ]
    },
    {
      "cell_type": "markdown",
      "source": [
        "# Analise Exploratória de dados\n",
        "\n",
        "*Nessa etapa faremos algumas analises descritivas, categorizações e clusterizações para entender alguns padrões nos dados.*\n",
        "\n",
        "*Inicialmente vamos entender a recorrencia nas vendas dos produtos*\n"
      ],
      "metadata": {
        "id": "E0b_ok96R9qO"
      }
    },
    {
      "cell_type": "code",
      "source": [
        "# Passo 1: Realizar a junção\n",
        "merged_data = pd.merge(products, aisles, on='aisle_id', how='left')\n",
        "\n",
        "# Passo 2: Contar produtos por aisle\n",
        "aisle_counts = merged_data['aisle'].value_counts().reset_index()\n",
        "aisle_counts.columns = ['aisle', 'product_count']  # Renomeia as colunas para melhor legibilidade\n",
        "\n",
        "# Exibir contagem por aisle\n",
        "print(\"Contagem de produtos por aisle:\")\n",
        "print(aisle_counts)"
      ],
      "metadata": {
        "colab": {
          "base_uri": "https://localhost:8080/"
        },
        "id": "XxycexvHWFSk",
        "outputId": "c0c4fb79-cda1-41a6-be76-ec2b2ae78e10"
      },
      "execution_count": 27,
      "outputs": [
        {
          "output_type": "stream",
          "name": "stdout",
          "text": [
            "Contagem de produtos por aisle:\n",
            "                            aisle  product_count\n",
            "0                         missing           1258\n",
            "1                 candy chocolate           1246\n",
            "2                   ice cream ice           1091\n",
            "3            vitamins supplements           1038\n",
            "4                          yogurt           1026\n",
            "..                            ...            ...\n",
            "129                  frozen juice             47\n",
            "130              baby accessories             44\n",
            "131              packaged produce             32\n",
            "132  bulk grains rice dried goods             26\n",
            "133  bulk dried fruits vegetables             12\n",
            "\n",
            "[134 rows x 2 columns]\n"
          ]
        }
      ]
    },
    {
      "cell_type": "code",
      "source": [
        "merged_with_departments = pd.merge(merged_data, departments, on='department_id', how='left')\n",
        "\n",
        "# Agora, contar produtos por department\n",
        "department_counts = merged_with_departments['department'].value_counts().reset_index()\n",
        "department_counts.columns = ['Departamento', 'Quantidade de Produtos']\n",
        "\n",
        "# Exibir contagem por department\n",
        "print(\"\\nContagem de produtos por department:\")\n",
        "print(department_counts)"
      ],
      "metadata": {
        "colab": {
          "base_uri": "https://localhost:8080/"
        },
        "id": "96Foeks-XwhJ",
        "outputId": "f9f2a9bc-c01a-4340-bec3-7692e893d696"
      },
      "execution_count": 28,
      "outputs": [
        {
          "output_type": "stream",
          "name": "stdout",
          "text": [
            "\n",
            "Contagem de produtos por department:\n",
            "       Departamento  Quantidade de Produtos\n",
            "0     personal care                    6563\n",
            "1            snacks                    6264\n",
            "2            pantry                    5371\n",
            "3         beverages                    4365\n",
            "4            frozen                    4007\n",
            "5        dairy eggs                    3449\n",
            "6         household                    3085\n",
            "7      canned goods                    2092\n",
            "8   dry goods pasta                    1858\n",
            "9           produce                    1684\n",
            "10           bakery                    1516\n",
            "11             deli                    1322\n",
            "12          missing                    1258\n",
            "13    international                    1139\n",
            "14        breakfast                    1115\n",
            "15           babies                    1081\n",
            "16          alcohol                    1054\n",
            "17             pets                     972\n",
            "18     meat seafood                     907\n",
            "19            other                     548\n",
            "20             bulk                      38\n"
          ]
        }
      ]
    },
    {
      "cell_type": "code",
      "source": [
        "# Passo 2: Realizar a junção\n",
        "merged_data = pd.merge(products, aisles, on='aisle_id', how='left')\n",
        "merged_with_departments = pd.merge(merged_data, departments, on='department_id', how='left')\n",
        "merged_with_orders = pd.merge(merged_with_departments, order_products_prior, on='product_id', how='left')\n",
        "\n",
        "# Passo 3: Agrupar e contar as vendas por departamento e produto\n",
        "product_sales = merged_with_orders.groupby(['department', 'product_name'])['order_id'].count().reset_index()\n",
        "\n",
        "# Passo 4: Renomear a coluna para melhor legibilidade\n",
        "product_sales.columns = ['department', 'product_name', 'total_sales']\n",
        "\n",
        "# Passo 5: Ordenar os produtos por departamento e total de vendas\n",
        "product_sales = product_sales.sort_values(by=['department', 'total_sales'], ascending=[True, False])\n",
        "\n",
        "# Passo 6: Selecionar os produtos mais vendidos em cada departamento\n",
        "top_products_by_department = product_sales.groupby('department').head(10)"
      ],
      "metadata": {
        "colab": {
          "base_uri": "https://localhost:8080/"
        },
        "id": "WBmCyLSjYpjO",
        "outputId": "3b04f2f9-8d4e-43f7-d13e-d097ec6aa523"
      },
      "execution_count": 29,
      "outputs": [
        {
          "output_type": "stream",
          "name": "stdout",
          "text": [
            "\n",
            "Produtos mais vendidos por departamento:\n",
            "      department                                  product_name  total_sales\n",
            "826      alcohol                               Sauvignon Blanc         8246\n",
            "242      alcohol                                    Chardonnay         6153\n",
            "179      alcohol                            Cabernet Sauvignon         6115\n",
            "81       alcohol                                          Beer         5844\n",
            "1005     alcohol                                         Vodka         5475\n",
            "...          ...                                           ...          ...\n",
            "44419     snacks                        Chocolate Chip Cookies        14148\n",
            "47490     snacks                        Organic Tortilla Chips        13776\n",
            "43731     snacks  Baked Aged White Cheddar Rice and Corn Puffs        13691\n",
            "47101     snacks        Organic Bunny Fruit Snacks Berry Patch        13372\n",
            "48557     snacks                         Sea Salt Potato Chips        13086\n",
            "\n",
            "[210 rows x 3 columns]\n"
          ]
        }
      ]
    },
    {
      "cell_type": "code",
      "source": [
        "top_products_by_department"
      ],
      "metadata": {
        "colab": {
          "base_uri": "https://localhost:8080/",
          "height": 424
        },
        "id": "Dz2pnxEIZG1c",
        "outputId": "0f4c95e8-a79f-41c0-b6d7-b449e4b3ccdd"
      },
      "execution_count": 30,
      "outputs": [
        {
          "output_type": "execute_result",
          "data": {
            "text/plain": [
              "      department                                  product_name  total_sales\n",
              "826      alcohol                               Sauvignon Blanc         8246\n",
              "242      alcohol                                    Chardonnay         6153\n",
              "179      alcohol                            Cabernet Sauvignon         6115\n",
              "81       alcohol                                          Beer         5844\n",
              "1005     alcohol                                         Vodka         5475\n",
              "...          ...                                           ...          ...\n",
              "44419     snacks                        Chocolate Chip Cookies        14148\n",
              "47490     snacks                        Organic Tortilla Chips        13776\n",
              "43731     snacks  Baked Aged White Cheddar Rice and Corn Puffs        13691\n",
              "47101     snacks        Organic Bunny Fruit Snacks Berry Patch        13372\n",
              "48557     snacks                         Sea Salt Potato Chips        13086\n",
              "\n",
              "[210 rows x 3 columns]"
            ],
            "text/html": [
              "\n",
              "  <div id=\"df-3916d76e-dd80-40a0-9508-e8a4e2bf7b38\" class=\"colab-df-container\">\n",
              "    <div>\n",
              "<style scoped>\n",
              "    .dataframe tbody tr th:only-of-type {\n",
              "        vertical-align: middle;\n",
              "    }\n",
              "\n",
              "    .dataframe tbody tr th {\n",
              "        vertical-align: top;\n",
              "    }\n",
              "\n",
              "    .dataframe thead th {\n",
              "        text-align: right;\n",
              "    }\n",
              "</style>\n",
              "<table border=\"1\" class=\"dataframe\">\n",
              "  <thead>\n",
              "    <tr style=\"text-align: right;\">\n",
              "      <th></th>\n",
              "      <th>department</th>\n",
              "      <th>product_name</th>\n",
              "      <th>total_sales</th>\n",
              "    </tr>\n",
              "  </thead>\n",
              "  <tbody>\n",
              "    <tr>\n",
              "      <th>826</th>\n",
              "      <td>alcohol</td>\n",
              "      <td>Sauvignon Blanc</td>\n",
              "      <td>8246</td>\n",
              "    </tr>\n",
              "    <tr>\n",
              "      <th>242</th>\n",
              "      <td>alcohol</td>\n",
              "      <td>Chardonnay</td>\n",
              "      <td>6153</td>\n",
              "    </tr>\n",
              "    <tr>\n",
              "      <th>179</th>\n",
              "      <td>alcohol</td>\n",
              "      <td>Cabernet Sauvignon</td>\n",
              "      <td>6115</td>\n",
              "    </tr>\n",
              "    <tr>\n",
              "      <th>81</th>\n",
              "      <td>alcohol</td>\n",
              "      <td>Beer</td>\n",
              "      <td>5844</td>\n",
              "    </tr>\n",
              "    <tr>\n",
              "      <th>1005</th>\n",
              "      <td>alcohol</td>\n",
              "      <td>Vodka</td>\n",
              "      <td>5475</td>\n",
              "    </tr>\n",
              "    <tr>\n",
              "      <th>...</th>\n",
              "      <td>...</td>\n",
              "      <td>...</td>\n",
              "      <td>...</td>\n",
              "    </tr>\n",
              "    <tr>\n",
              "      <th>44419</th>\n",
              "      <td>snacks</td>\n",
              "      <td>Chocolate Chip Cookies</td>\n",
              "      <td>14148</td>\n",
              "    </tr>\n",
              "    <tr>\n",
              "      <th>47490</th>\n",
              "      <td>snacks</td>\n",
              "      <td>Organic Tortilla Chips</td>\n",
              "      <td>13776</td>\n",
              "    </tr>\n",
              "    <tr>\n",
              "      <th>43731</th>\n",
              "      <td>snacks</td>\n",
              "      <td>Baked Aged White Cheddar Rice and Corn Puffs</td>\n",
              "      <td>13691</td>\n",
              "    </tr>\n",
              "    <tr>\n",
              "      <th>47101</th>\n",
              "      <td>snacks</td>\n",
              "      <td>Organic Bunny Fruit Snacks Berry Patch</td>\n",
              "      <td>13372</td>\n",
              "    </tr>\n",
              "    <tr>\n",
              "      <th>48557</th>\n",
              "      <td>snacks</td>\n",
              "      <td>Sea Salt Potato Chips</td>\n",
              "      <td>13086</td>\n",
              "    </tr>\n",
              "  </tbody>\n",
              "</table>\n",
              "<p>210 rows × 3 columns</p>\n",
              "</div>\n",
              "    <div class=\"colab-df-buttons\">\n",
              "\n",
              "  <div class=\"colab-df-container\">\n",
              "    <button class=\"colab-df-convert\" onclick=\"convertToInteractive('df-3916d76e-dd80-40a0-9508-e8a4e2bf7b38')\"\n",
              "            title=\"Convert this dataframe to an interactive table.\"\n",
              "            style=\"display:none;\">\n",
              "\n",
              "  <svg xmlns=\"http://www.w3.org/2000/svg\" height=\"24px\" viewBox=\"0 -960 960 960\">\n",
              "    <path d=\"M120-120v-720h720v720H120Zm60-500h600v-160H180v160Zm220 220h160v-160H400v160Zm0 220h160v-160H400v160ZM180-400h160v-160H180v160Zm440 0h160v-160H620v160ZM180-180h160v-160H180v160Zm440 0h160v-160H620v160Z\"/>\n",
              "  </svg>\n",
              "    </button>\n",
              "\n",
              "  <style>\n",
              "    .colab-df-container {\n",
              "      display:flex;\n",
              "      gap: 12px;\n",
              "    }\n",
              "\n",
              "    .colab-df-convert {\n",
              "      background-color: #E8F0FE;\n",
              "      border: none;\n",
              "      border-radius: 50%;\n",
              "      cursor: pointer;\n",
              "      display: none;\n",
              "      fill: #1967D2;\n",
              "      height: 32px;\n",
              "      padding: 0 0 0 0;\n",
              "      width: 32px;\n",
              "    }\n",
              "\n",
              "    .colab-df-convert:hover {\n",
              "      background-color: #E2EBFA;\n",
              "      box-shadow: 0px 1px 2px rgba(60, 64, 67, 0.3), 0px 1px 3px 1px rgba(60, 64, 67, 0.15);\n",
              "      fill: #174EA6;\n",
              "    }\n",
              "\n",
              "    .colab-df-buttons div {\n",
              "      margin-bottom: 4px;\n",
              "    }\n",
              "\n",
              "    [theme=dark] .colab-df-convert {\n",
              "      background-color: #3B4455;\n",
              "      fill: #D2E3FC;\n",
              "    }\n",
              "\n",
              "    [theme=dark] .colab-df-convert:hover {\n",
              "      background-color: #434B5C;\n",
              "      box-shadow: 0px 1px 3px 1px rgba(0, 0, 0, 0.15);\n",
              "      filter: drop-shadow(0px 1px 2px rgba(0, 0, 0, 0.3));\n",
              "      fill: #FFFFFF;\n",
              "    }\n",
              "  </style>\n",
              "\n",
              "    <script>\n",
              "      const buttonEl =\n",
              "        document.querySelector('#df-3916d76e-dd80-40a0-9508-e8a4e2bf7b38 button.colab-df-convert');\n",
              "      buttonEl.style.display =\n",
              "        google.colab.kernel.accessAllowed ? 'block' : 'none';\n",
              "\n",
              "      async function convertToInteractive(key) {\n",
              "        const element = document.querySelector('#df-3916d76e-dd80-40a0-9508-e8a4e2bf7b38');\n",
              "        const dataTable =\n",
              "          await google.colab.kernel.invokeFunction('convertToInteractive',\n",
              "                                                    [key], {});\n",
              "        if (!dataTable) return;\n",
              "\n",
              "        const docLinkHtml = 'Like what you see? Visit the ' +\n",
              "          '<a target=\"_blank\" href=https://colab.research.google.com/notebooks/data_table.ipynb>data table notebook</a>'\n",
              "          + ' to learn more about interactive tables.';\n",
              "        element.innerHTML = '';\n",
              "        dataTable['output_type'] = 'display_data';\n",
              "        await google.colab.output.renderOutput(dataTable, element);\n",
              "        const docLink = document.createElement('div');\n",
              "        docLink.innerHTML = docLinkHtml;\n",
              "        element.appendChild(docLink);\n",
              "      }\n",
              "    </script>\n",
              "  </div>\n",
              "\n",
              "\n",
              "<div id=\"df-73fd2c3a-b430-4ebc-8934-2dc0f683da65\">\n",
              "  <button class=\"colab-df-quickchart\" onclick=\"quickchart('df-73fd2c3a-b430-4ebc-8934-2dc0f683da65')\"\n",
              "            title=\"Suggest charts\"\n",
              "            style=\"display:none;\">\n",
              "\n",
              "<svg xmlns=\"http://www.w3.org/2000/svg\" height=\"24px\"viewBox=\"0 0 24 24\"\n",
              "     width=\"24px\">\n",
              "    <g>\n",
              "        <path d=\"M19 3H5c-1.1 0-2 .9-2 2v14c0 1.1.9 2 2 2h14c1.1 0 2-.9 2-2V5c0-1.1-.9-2-2-2zM9 17H7v-7h2v7zm4 0h-2V7h2v10zm4 0h-2v-4h2v4z\"/>\n",
              "    </g>\n",
              "</svg>\n",
              "  </button>\n",
              "\n",
              "<style>\n",
              "  .colab-df-quickchart {\n",
              "      --bg-color: #E8F0FE;\n",
              "      --fill-color: #1967D2;\n",
              "      --hover-bg-color: #E2EBFA;\n",
              "      --hover-fill-color: #174EA6;\n",
              "      --disabled-fill-color: #AAA;\n",
              "      --disabled-bg-color: #DDD;\n",
              "  }\n",
              "\n",
              "  [theme=dark] .colab-df-quickchart {\n",
              "      --bg-color: #3B4455;\n",
              "      --fill-color: #D2E3FC;\n",
              "      --hover-bg-color: #434B5C;\n",
              "      --hover-fill-color: #FFFFFF;\n",
              "      --disabled-bg-color: #3B4455;\n",
              "      --disabled-fill-color: #666;\n",
              "  }\n",
              "\n",
              "  .colab-df-quickchart {\n",
              "    background-color: var(--bg-color);\n",
              "    border: none;\n",
              "    border-radius: 50%;\n",
              "    cursor: pointer;\n",
              "    display: none;\n",
              "    fill: var(--fill-color);\n",
              "    height: 32px;\n",
              "    padding: 0;\n",
              "    width: 32px;\n",
              "  }\n",
              "\n",
              "  .colab-df-quickchart:hover {\n",
              "    background-color: var(--hover-bg-color);\n",
              "    box-shadow: 0 1px 2px rgba(60, 64, 67, 0.3), 0 1px 3px 1px rgba(60, 64, 67, 0.15);\n",
              "    fill: var(--button-hover-fill-color);\n",
              "  }\n",
              "\n",
              "  .colab-df-quickchart-complete:disabled,\n",
              "  .colab-df-quickchart-complete:disabled:hover {\n",
              "    background-color: var(--disabled-bg-color);\n",
              "    fill: var(--disabled-fill-color);\n",
              "    box-shadow: none;\n",
              "  }\n",
              "\n",
              "  .colab-df-spinner {\n",
              "    border: 2px solid var(--fill-color);\n",
              "    border-color: transparent;\n",
              "    border-bottom-color: var(--fill-color);\n",
              "    animation:\n",
              "      spin 1s steps(1) infinite;\n",
              "  }\n",
              "\n",
              "  @keyframes spin {\n",
              "    0% {\n",
              "      border-color: transparent;\n",
              "      border-bottom-color: var(--fill-color);\n",
              "      border-left-color: var(--fill-color);\n",
              "    }\n",
              "    20% {\n",
              "      border-color: transparent;\n",
              "      border-left-color: var(--fill-color);\n",
              "      border-top-color: var(--fill-color);\n",
              "    }\n",
              "    30% {\n",
              "      border-color: transparent;\n",
              "      border-left-color: var(--fill-color);\n",
              "      border-top-color: var(--fill-color);\n",
              "      border-right-color: var(--fill-color);\n",
              "    }\n",
              "    40% {\n",
              "      border-color: transparent;\n",
              "      border-right-color: var(--fill-color);\n",
              "      border-top-color: var(--fill-color);\n",
              "    }\n",
              "    60% {\n",
              "      border-color: transparent;\n",
              "      border-right-color: var(--fill-color);\n",
              "    }\n",
              "    80% {\n",
              "      border-color: transparent;\n",
              "      border-right-color: var(--fill-color);\n",
              "      border-bottom-color: var(--fill-color);\n",
              "    }\n",
              "    90% {\n",
              "      border-color: transparent;\n",
              "      border-bottom-color: var(--fill-color);\n",
              "    }\n",
              "  }\n",
              "</style>\n",
              "\n",
              "  <script>\n",
              "    async function quickchart(key) {\n",
              "      const quickchartButtonEl =\n",
              "        document.querySelector('#' + key + ' button');\n",
              "      quickchartButtonEl.disabled = true;  // To prevent multiple clicks.\n",
              "      quickchartButtonEl.classList.add('colab-df-spinner');\n",
              "      try {\n",
              "        const charts = await google.colab.kernel.invokeFunction(\n",
              "            'suggestCharts', [key], {});\n",
              "      } catch (error) {\n",
              "        console.error('Error during call to suggestCharts:', error);\n",
              "      }\n",
              "      quickchartButtonEl.classList.remove('colab-df-spinner');\n",
              "      quickchartButtonEl.classList.add('colab-df-quickchart-complete');\n",
              "    }\n",
              "    (() => {\n",
              "      let quickchartButtonEl =\n",
              "        document.querySelector('#df-73fd2c3a-b430-4ebc-8934-2dc0f683da65 button');\n",
              "      quickchartButtonEl.style.display =\n",
              "        google.colab.kernel.accessAllowed ? 'block' : 'none';\n",
              "    })();\n",
              "  </script>\n",
              "</div>\n",
              "\n",
              "  <div id=\"id_c8dcdd13-dcdd-48e6-a633-573a05a17d81\">\n",
              "    <style>\n",
              "      .colab-df-generate {\n",
              "        background-color: #E8F0FE;\n",
              "        border: none;\n",
              "        border-radius: 50%;\n",
              "        cursor: pointer;\n",
              "        display: none;\n",
              "        fill: #1967D2;\n",
              "        height: 32px;\n",
              "        padding: 0 0 0 0;\n",
              "        width: 32px;\n",
              "      }\n",
              "\n",
              "      .colab-df-generate:hover {\n",
              "        background-color: #E2EBFA;\n",
              "        box-shadow: 0px 1px 2px rgba(60, 64, 67, 0.3), 0px 1px 3px 1px rgba(60, 64, 67, 0.15);\n",
              "        fill: #174EA6;\n",
              "      }\n",
              "\n",
              "      [theme=dark] .colab-df-generate {\n",
              "        background-color: #3B4455;\n",
              "        fill: #D2E3FC;\n",
              "      }\n",
              "\n",
              "      [theme=dark] .colab-df-generate:hover {\n",
              "        background-color: #434B5C;\n",
              "        box-shadow: 0px 1px 3px 1px rgba(0, 0, 0, 0.15);\n",
              "        filter: drop-shadow(0px 1px 2px rgba(0, 0, 0, 0.3));\n",
              "        fill: #FFFFFF;\n",
              "      }\n",
              "    </style>\n",
              "    <button class=\"colab-df-generate\" onclick=\"generateWithVariable('top_products_by_department')\"\n",
              "            title=\"Generate code using this dataframe.\"\n",
              "            style=\"display:none;\">\n",
              "\n",
              "  <svg xmlns=\"http://www.w3.org/2000/svg\" height=\"24px\"viewBox=\"0 0 24 24\"\n",
              "       width=\"24px\">\n",
              "    <path d=\"M7,19H8.4L18.45,9,17,7.55,7,17.6ZM5,21V16.75L18.45,3.32a2,2,0,0,1,2.83,0l1.4,1.43a1.91,1.91,0,0,1,.58,1.4,1.91,1.91,0,0,1-.58,1.4L9.25,21ZM18.45,9,17,7.55Zm-12,3A5.31,5.31,0,0,0,4.9,8.1,5.31,5.31,0,0,0,1,6.5,5.31,5.31,0,0,0,4.9,4.9,5.31,5.31,0,0,0,6.5,1,5.31,5.31,0,0,0,8.1,4.9,5.31,5.31,0,0,0,12,6.5,5.46,5.46,0,0,0,6.5,12Z\"/>\n",
              "  </svg>\n",
              "    </button>\n",
              "    <script>\n",
              "      (() => {\n",
              "      const buttonEl =\n",
              "        document.querySelector('#id_c8dcdd13-dcdd-48e6-a633-573a05a17d81 button.colab-df-generate');\n",
              "      buttonEl.style.display =\n",
              "        google.colab.kernel.accessAllowed ? 'block' : 'none';\n",
              "\n",
              "      buttonEl.onclick = () => {\n",
              "        google.colab.notebook.generateWithVariable('top_products_by_department');\n",
              "      }\n",
              "      })();\n",
              "    </script>\n",
              "  </div>\n",
              "\n",
              "    </div>\n",
              "  </div>\n"
            ],
            "application/vnd.google.colaboratory.intrinsic+json": {
              "type": "dataframe",
              "variable_name": "top_products_by_department",
              "summary": "{\n  \"name\": \"top_products_by_department\",\n  \"rows\": 210,\n  \"fields\": [\n    {\n      \"column\": \"department\",\n      \"properties\": {\n        \"dtype\": \"category\",\n        \"num_unique_values\": 21,\n        \"samples\": [\n          \"alcohol\",\n          \"personal care\",\n          \"other\"\n        ],\n        \"semantic_type\": \"\",\n        \"description\": \"\"\n      }\n    },\n    {\n      \"column\": \"product_name\",\n      \"properties\": {\n        \"dtype\": \"string\",\n        \"num_unique_values\": 210,\n        \"samples\": [\n          \"Sparkling Water Grapefruit\",\n          \"Premium Epsom Salt\",\n          \"Oven Roasted Turkey Breast\"\n        ],\n        \"semantic_type\": \"\",\n        \"description\": \"\"\n      }\n    },\n    {\n      \"column\": \"total_sales\",\n      \"properties\": {\n        \"dtype\": \"number\",\n        \"std\": 54745,\n        \"min\": 451,\n        \"max\": 472565,\n        \"num_unique_values\": 209,\n        \"samples\": [\n          75886,\n          4951,\n          20069\n        ],\n        \"semantic_type\": \"\",\n        \"description\": \"\"\n      }\n    }\n  ]\n}"
            }
          },
          "metadata": {},
          "execution_count": 30
        }
      ]
    },
    {
      "cell_type": "code",
      "source": [
        "# Inspecionar as colunas do DataFrame merged_with_orders\n",
        "print(\"Colunas do DataFrame merged_with_orders:\")\n",
        "print(merged_with_orders.columns)\n"
      ],
      "metadata": {
        "colab": {
          "base_uri": "https://localhost:8080/"
        },
        "id": "VR4AedsubMaK",
        "outputId": "f294553f-56c6-43a2-cebe-e1d51fe9da09"
      },
      "execution_count": 31,
      "outputs": [
        {
          "output_type": "stream",
          "name": "stdout",
          "text": [
            "Colunas do DataFrame merged_with_orders:\n",
            "Index(['product_id', 'product_name', 'aisle_id', 'department_id', 'aisle',\n",
            "       'department', 'order_id', 'add_to_cart_order', 'reordered'],\n",
            "      dtype='object')\n"
          ]
        }
      ]
    },
    {
      "cell_type": "code",
      "source": [
        "import pandas as pd"
      ],
      "metadata": {
        "id": "PnBBkAw8dKH3"
      },
      "execution_count": 32,
      "outputs": []
    },
    {
      "cell_type": "code",
      "source": [
        "# Passo 1: Importar a biblioteca pandas\n",
        "import pandas as pd\n",
        "\n",
        "# Passo 2: Carregar os dados\n",
        "orders_prior = pd.read_csv('order_products__prior.csv')\n",
        "orders_train = pd.read_csv('order_products__train.csv')\n"
      ],
      "metadata": {
        "id": "VZeR5pCsfhM4"
      },
      "execution_count": 3,
      "outputs": []
    },
    {
      "cell_type": "code",
      "source": [
        "\n",
        "# Passo 3: Concatenar os dados de vendas\n",
        "orders_combined = pd.concat([orders_prior, orders_train], ignore_index=True)\n"
      ],
      "metadata": {
        "id": "omgZXCWLfyUD"
      },
      "execution_count": 4,
      "outputs": []
    },
    {
      "cell_type": "code",
      "source": [
        "import pandas as pd\n",
        "\n",
        "# Passo 1: Carregar os dados\n",
        "products = pd.read_csv('products.csv')          # Carregue o arquivo com dados de produtos\n",
        "aisles = pd.read_csv('aisles.csv')              # Carregue o arquivo com dados de corredores (aisles)\n",
        "departments = pd.read_csv('departments.csv')    # Carregue o arquivo com dados de departamentos\n",
        "orders_prior = pd.read_csv('order_products__prior.csv')  # Carregue os pedidos anteriores\n",
        "orders_train = pd.read_csv('order_products__train.csv')  # Carregue os pedidos de treino\n",
        "\n",
        "# Passo 2: Concatenar os dados de vendas\n",
        "orders_combined = pd.concat([orders_prior, orders_train], ignore_index=True)\n"
      ],
      "metadata": {
        "id": "P2GcpR-Hf9nE"
      },
      "execution_count": 6,
      "outputs": []
    },
    {
      "cell_type": "code",
      "source": [
        "# Passo 4: Realizar as junções necessárias\n",
        "merged_data = pd.merge(products, aisles, on='aisle_id', how='left')\n",
        "merged_with_departments = pd.merge(merged_data, departments, on='department_id', how='left')\n",
        "merged_with_orders = pd.merge(merged_with_departments, orders_combined, on='product_id', how='left')"
      ],
      "metadata": {
        "id": "qeLTuzX7fzlq"
      },
      "execution_count": 8,
      "outputs": []
    },
    {
      "cell_type": "code",
      "source": [
        "# Incluir user_id no merged_with_orders\n",
        "if 'user_id' not in merged_with_orders.columns:\n",
        "    orders = pd.read_csv('orders.csv')\n",
        "    merged_with_orders = pd.merge(merged_with_orders, orders[['order_id', 'user_id']], on='order_id', how='left')"
      ],
      "metadata": {
        "id": "9SJVE9SSjSdw"
      },
      "execution_count": 26,
      "outputs": []
    },
    {
      "cell_type": "code",
      "source": [
        "# Inspecionar as colunas do DataFrame merged_with_orders\n",
        "print(\"Colunas do DataFrame merged_with_orders:\")\n",
        "print(merged_with_orders.columns)"
      ],
      "metadata": {
        "colab": {
          "base_uri": "https://localhost:8080/"
        },
        "id": "ka_swze2jP9r",
        "outputId": "fcea071d-01cb-428a-e70b-c2ecc8cc55d7"
      },
      "execution_count": 27,
      "outputs": [
        {
          "output_type": "stream",
          "name": "stdout",
          "text": [
            "Colunas do DataFrame merged_with_orders:\n",
            "Index(['product_id', 'product_name', 'aisle_id', 'department_id', 'aisle',\n",
            "       'department', 'order_id', 'add_to_cart_order', 'reordered', 'user_id'],\n",
            "      dtype='object')\n"
          ]
        }
      ]
    },
    {
      "cell_type": "code",
      "source": [
        "# Passo 5: Agrupar e contar as vendas por departamento e produto\n",
        "product_sales = merged_with_orders.groupby(['department', 'product_id', 'product_name'])['order_id'].count().reset_index()\n",
        "product_sales.columns = ['department', 'product_id', 'product_name', 'total_sales']"
      ],
      "metadata": {
        "id": "PZmND6IRgIra"
      },
      "execution_count": 9,
      "outputs": []
    },
    {
      "cell_type": "code",
      "source": [
        "# Passo 6: Ordenar os produtos por departamento e total de vendas\n",
        "product_sales = product_sales.sort_values(by=['department', 'total_sales'], ascending=[True, False])"
      ],
      "metadata": {
        "id": "yv5LdgqjgNLL"
      },
      "execution_count": 10,
      "outputs": []
    },
    {
      "cell_type": "code",
      "source": [
        "# Passo 7: Selecionar os produtos mais vendidos em cada departamento\n",
        "top_products_by_department = product_sales.groupby('department').head(10)"
      ],
      "metadata": {
        "id": "ao_m7VWsgV5U"
      },
      "execution_count": 11,
      "outputs": []
    },
    {
      "cell_type": "code",
      "source": [
        "# Passo 8: Contar compradores únicos para cada produto\n",
        "unique_buyers = merged_with_orders.groupby('product_id')['order_id'].nunique().reset_index()\n",
        "unique_buyers.columns = ['product_id', 'unique_buyers']"
      ],
      "metadata": {
        "id": "O1QU2tPSgXSK"
      },
      "execution_count": 23,
      "outputs": []
    },
    {
      "cell_type": "code",
      "source": [
        "# Passo 9: Contar produtos reordenados e comprados pela primeira vez\n",
        "reorder_count = merged_with_orders.groupby('product_id')['reordered'].sum().reset_index()\n",
        "reorder_count.columns = ['product_id', 'reorder_count']\n"
      ],
      "metadata": {
        "id": "VWTesUpIgZiM"
      },
      "execution_count": 13,
      "outputs": []
    },
    {
      "cell_type": "code",
      "source": [
        "# Passo 10: Calcular a porcentagem de reordenação\n",
        "top_products_by_department['reorder_percentage'] = (top_products_by_department['reorder_count'] / top_products_by_department['total_sales']) * 100"
      ],
      "metadata": {
        "id": "-plpVL-whgr-"
      },
      "execution_count": 20,
      "outputs": []
    },
    {
      "cell_type": "code",
      "source": [
        "# Passo 10: Adicionar os dados de compradores únicos e recompra ao DataFrame dos produtos mais vendidos\n",
        "top_products_by_department = top_products_by_department.merge(unique_buyers, on='product_id', how='left')\n",
        "top_products_by_department = top_products_by_department.merge(reorder_count, on='product_id', how='left')"
      ],
      "metadata": {
        "id": "0y_Ds2mzggCx"
      },
      "execution_count": 14,
      "outputs": []
    },
    {
      "cell_type": "code",
      "source": [
        "# Exibir os resultados finais\n",
        "print(\"\\nProdutos mais vendidos por departamento com contagem de compradores únicos e recompra:\")"
      ],
      "metadata": {
        "colab": {
          "base_uri": "https://localhost:8080/"
        },
        "id": "nZANvd_Jexsg",
        "outputId": "db83079a-96e9-48f2-ebc9-6b33868da72c"
      },
      "execution_count": 19,
      "outputs": [
        {
          "output_type": "stream",
          "name": "stdout",
          "text": [
            "\n",
            "Produtos mais vendidos por departamento com contagem de compradores únicos e recompra:\n"
          ]
        }
      ]
    },
    {
      "cell_type": "code",
      "source": [
        "top_products_by_department"
      ],
      "metadata": {
        "colab": {
          "base_uri": "https://localhost:8080/",
          "height": 424
        },
        "id": "Vu0auh2LgkuJ",
        "outputId": "4c84c89c-f40d-49f6-a382-2038af2e57d3"
      },
      "execution_count": 21,
      "outputs": [
        {
          "output_type": "execute_result",
          "data": {
            "text/plain": [
              "    department  product_id                                  product_name  \\\n",
              "0      alcohol        2120                               Sauvignon Blanc   \n",
              "1      alcohol       33065                            Cabernet Sauvignon   \n",
              "2      alcohol       38444                                    Chardonnay   \n",
              "3      alcohol       46088                                          Beer   \n",
              "4      alcohol       45190                                         Vodka   \n",
              "..         ...         ...                                           ...   \n",
              "205     snacks       40199                        Chocolate Chip Cookies   \n",
              "206     snacks       35561                        Organic Tortilla Chips   \n",
              "207     snacks        3599  Baked Aged White Cheddar Rice and Corn Puffs   \n",
              "208     snacks        5194        Organic Bunny Fruit Snacks Berry Patch   \n",
              "209     snacks       18288                         Sea Salt Potato Chips   \n",
              "\n",
              "     total_sales  unique_buyers  reorder_count  reorder_percentage  \n",
              "0           8541           8541         5847.0           68.458026  \n",
              "1           6352           6352         3836.0           60.390428  \n",
              "2           6346           6346         4367.0           68.815002  \n",
              "3           6068           6068         4069.0           67.056691  \n",
              "4           5666           5666         4103.0           72.414402  \n",
              "..           ...            ...            ...                 ...  \n",
              "205        14762          14762         8866.0           60.059613  \n",
              "206        14413          14413         9048.0           62.776660  \n",
              "207        14237          14237         9168.0           64.395589  \n",
              "208        13847          13847         8246.0           59.550805  \n",
              "209        13597          13597         8301.0           61.050232  \n",
              "\n",
              "[210 rows x 7 columns]"
            ],
            "text/html": [
              "\n",
              "  <div id=\"df-c8530286-2c23-4257-8316-1e1a37828c79\" class=\"colab-df-container\">\n",
              "    <div>\n",
              "<style scoped>\n",
              "    .dataframe tbody tr th:only-of-type {\n",
              "        vertical-align: middle;\n",
              "    }\n",
              "\n",
              "    .dataframe tbody tr th {\n",
              "        vertical-align: top;\n",
              "    }\n",
              "\n",
              "    .dataframe thead th {\n",
              "        text-align: right;\n",
              "    }\n",
              "</style>\n",
              "<table border=\"1\" class=\"dataframe\">\n",
              "  <thead>\n",
              "    <tr style=\"text-align: right;\">\n",
              "      <th></th>\n",
              "      <th>department</th>\n",
              "      <th>product_id</th>\n",
              "      <th>product_name</th>\n",
              "      <th>total_sales</th>\n",
              "      <th>unique_buyers</th>\n",
              "      <th>reorder_count</th>\n",
              "      <th>reorder_percentage</th>\n",
              "    </tr>\n",
              "  </thead>\n",
              "  <tbody>\n",
              "    <tr>\n",
              "      <th>0</th>\n",
              "      <td>alcohol</td>\n",
              "      <td>2120</td>\n",
              "      <td>Sauvignon Blanc</td>\n",
              "      <td>8541</td>\n",
              "      <td>8541</td>\n",
              "      <td>5847.0</td>\n",
              "      <td>68.458026</td>\n",
              "    </tr>\n",
              "    <tr>\n",
              "      <th>1</th>\n",
              "      <td>alcohol</td>\n",
              "      <td>33065</td>\n",
              "      <td>Cabernet Sauvignon</td>\n",
              "      <td>6352</td>\n",
              "      <td>6352</td>\n",
              "      <td>3836.0</td>\n",
              "      <td>60.390428</td>\n",
              "    </tr>\n",
              "    <tr>\n",
              "      <th>2</th>\n",
              "      <td>alcohol</td>\n",
              "      <td>38444</td>\n",
              "      <td>Chardonnay</td>\n",
              "      <td>6346</td>\n",
              "      <td>6346</td>\n",
              "      <td>4367.0</td>\n",
              "      <td>68.815002</td>\n",
              "    </tr>\n",
              "    <tr>\n",
              "      <th>3</th>\n",
              "      <td>alcohol</td>\n",
              "      <td>46088</td>\n",
              "      <td>Beer</td>\n",
              "      <td>6068</td>\n",
              "      <td>6068</td>\n",
              "      <td>4069.0</td>\n",
              "      <td>67.056691</td>\n",
              "    </tr>\n",
              "    <tr>\n",
              "      <th>4</th>\n",
              "      <td>alcohol</td>\n",
              "      <td>45190</td>\n",
              "      <td>Vodka</td>\n",
              "      <td>5666</td>\n",
              "      <td>5666</td>\n",
              "      <td>4103.0</td>\n",
              "      <td>72.414402</td>\n",
              "    </tr>\n",
              "    <tr>\n",
              "      <th>...</th>\n",
              "      <td>...</td>\n",
              "      <td>...</td>\n",
              "      <td>...</td>\n",
              "      <td>...</td>\n",
              "      <td>...</td>\n",
              "      <td>...</td>\n",
              "      <td>...</td>\n",
              "    </tr>\n",
              "    <tr>\n",
              "      <th>205</th>\n",
              "      <td>snacks</td>\n",
              "      <td>40199</td>\n",
              "      <td>Chocolate Chip Cookies</td>\n",
              "      <td>14762</td>\n",
              "      <td>14762</td>\n",
              "      <td>8866.0</td>\n",
              "      <td>60.059613</td>\n",
              "    </tr>\n",
              "    <tr>\n",
              "      <th>206</th>\n",
              "      <td>snacks</td>\n",
              "      <td>35561</td>\n",
              "      <td>Organic Tortilla Chips</td>\n",
              "      <td>14413</td>\n",
              "      <td>14413</td>\n",
              "      <td>9048.0</td>\n",
              "      <td>62.776660</td>\n",
              "    </tr>\n",
              "    <tr>\n",
              "      <th>207</th>\n",
              "      <td>snacks</td>\n",
              "      <td>3599</td>\n",
              "      <td>Baked Aged White Cheddar Rice and Corn Puffs</td>\n",
              "      <td>14237</td>\n",
              "      <td>14237</td>\n",
              "      <td>9168.0</td>\n",
              "      <td>64.395589</td>\n",
              "    </tr>\n",
              "    <tr>\n",
              "      <th>208</th>\n",
              "      <td>snacks</td>\n",
              "      <td>5194</td>\n",
              "      <td>Organic Bunny Fruit Snacks Berry Patch</td>\n",
              "      <td>13847</td>\n",
              "      <td>13847</td>\n",
              "      <td>8246.0</td>\n",
              "      <td>59.550805</td>\n",
              "    </tr>\n",
              "    <tr>\n",
              "      <th>209</th>\n",
              "      <td>snacks</td>\n",
              "      <td>18288</td>\n",
              "      <td>Sea Salt Potato Chips</td>\n",
              "      <td>13597</td>\n",
              "      <td>13597</td>\n",
              "      <td>8301.0</td>\n",
              "      <td>61.050232</td>\n",
              "    </tr>\n",
              "  </tbody>\n",
              "</table>\n",
              "<p>210 rows × 7 columns</p>\n",
              "</div>\n",
              "    <div class=\"colab-df-buttons\">\n",
              "\n",
              "  <div class=\"colab-df-container\">\n",
              "    <button class=\"colab-df-convert\" onclick=\"convertToInteractive('df-c8530286-2c23-4257-8316-1e1a37828c79')\"\n",
              "            title=\"Convert this dataframe to an interactive table.\"\n",
              "            style=\"display:none;\">\n",
              "\n",
              "  <svg xmlns=\"http://www.w3.org/2000/svg\" height=\"24px\" viewBox=\"0 -960 960 960\">\n",
              "    <path d=\"M120-120v-720h720v720H120Zm60-500h600v-160H180v160Zm220 220h160v-160H400v160Zm0 220h160v-160H400v160ZM180-400h160v-160H180v160Zm440 0h160v-160H620v160ZM180-180h160v-160H180v160Zm440 0h160v-160H620v160Z\"/>\n",
              "  </svg>\n",
              "    </button>\n",
              "\n",
              "  <style>\n",
              "    .colab-df-container {\n",
              "      display:flex;\n",
              "      gap: 12px;\n",
              "    }\n",
              "\n",
              "    .colab-df-convert {\n",
              "      background-color: #E8F0FE;\n",
              "      border: none;\n",
              "      border-radius: 50%;\n",
              "      cursor: pointer;\n",
              "      display: none;\n",
              "      fill: #1967D2;\n",
              "      height: 32px;\n",
              "      padding: 0 0 0 0;\n",
              "      width: 32px;\n",
              "    }\n",
              "\n",
              "    .colab-df-convert:hover {\n",
              "      background-color: #E2EBFA;\n",
              "      box-shadow: 0px 1px 2px rgba(60, 64, 67, 0.3), 0px 1px 3px 1px rgba(60, 64, 67, 0.15);\n",
              "      fill: #174EA6;\n",
              "    }\n",
              "\n",
              "    .colab-df-buttons div {\n",
              "      margin-bottom: 4px;\n",
              "    }\n",
              "\n",
              "    [theme=dark] .colab-df-convert {\n",
              "      background-color: #3B4455;\n",
              "      fill: #D2E3FC;\n",
              "    }\n",
              "\n",
              "    [theme=dark] .colab-df-convert:hover {\n",
              "      background-color: #434B5C;\n",
              "      box-shadow: 0px 1px 3px 1px rgba(0, 0, 0, 0.15);\n",
              "      filter: drop-shadow(0px 1px 2px rgba(0, 0, 0, 0.3));\n",
              "      fill: #FFFFFF;\n",
              "    }\n",
              "  </style>\n",
              "\n",
              "    <script>\n",
              "      const buttonEl =\n",
              "        document.querySelector('#df-c8530286-2c23-4257-8316-1e1a37828c79 button.colab-df-convert');\n",
              "      buttonEl.style.display =\n",
              "        google.colab.kernel.accessAllowed ? 'block' : 'none';\n",
              "\n",
              "      async function convertToInteractive(key) {\n",
              "        const element = document.querySelector('#df-c8530286-2c23-4257-8316-1e1a37828c79');\n",
              "        const dataTable =\n",
              "          await google.colab.kernel.invokeFunction('convertToInteractive',\n",
              "                                                    [key], {});\n",
              "        if (!dataTable) return;\n",
              "\n",
              "        const docLinkHtml = 'Like what you see? Visit the ' +\n",
              "          '<a target=\"_blank\" href=https://colab.research.google.com/notebooks/data_table.ipynb>data table notebook</a>'\n",
              "          + ' to learn more about interactive tables.';\n",
              "        element.innerHTML = '';\n",
              "        dataTable['output_type'] = 'display_data';\n",
              "        await google.colab.output.renderOutput(dataTable, element);\n",
              "        const docLink = document.createElement('div');\n",
              "        docLink.innerHTML = docLinkHtml;\n",
              "        element.appendChild(docLink);\n",
              "      }\n",
              "    </script>\n",
              "  </div>\n",
              "\n",
              "\n",
              "<div id=\"df-35831dd7-3af9-4f94-8e9b-372c50ea3462\">\n",
              "  <button class=\"colab-df-quickchart\" onclick=\"quickchart('df-35831dd7-3af9-4f94-8e9b-372c50ea3462')\"\n",
              "            title=\"Suggest charts\"\n",
              "            style=\"display:none;\">\n",
              "\n",
              "<svg xmlns=\"http://www.w3.org/2000/svg\" height=\"24px\"viewBox=\"0 0 24 24\"\n",
              "     width=\"24px\">\n",
              "    <g>\n",
              "        <path d=\"M19 3H5c-1.1 0-2 .9-2 2v14c0 1.1.9 2 2 2h14c1.1 0 2-.9 2-2V5c0-1.1-.9-2-2-2zM9 17H7v-7h2v7zm4 0h-2V7h2v10zm4 0h-2v-4h2v4z\"/>\n",
              "    </g>\n",
              "</svg>\n",
              "  </button>\n",
              "\n",
              "<style>\n",
              "  .colab-df-quickchart {\n",
              "      --bg-color: #E8F0FE;\n",
              "      --fill-color: #1967D2;\n",
              "      --hover-bg-color: #E2EBFA;\n",
              "      --hover-fill-color: #174EA6;\n",
              "      --disabled-fill-color: #AAA;\n",
              "      --disabled-bg-color: #DDD;\n",
              "  }\n",
              "\n",
              "  [theme=dark] .colab-df-quickchart {\n",
              "      --bg-color: #3B4455;\n",
              "      --fill-color: #D2E3FC;\n",
              "      --hover-bg-color: #434B5C;\n",
              "      --hover-fill-color: #FFFFFF;\n",
              "      --disabled-bg-color: #3B4455;\n",
              "      --disabled-fill-color: #666;\n",
              "  }\n",
              "\n",
              "  .colab-df-quickchart {\n",
              "    background-color: var(--bg-color);\n",
              "    border: none;\n",
              "    border-radius: 50%;\n",
              "    cursor: pointer;\n",
              "    display: none;\n",
              "    fill: var(--fill-color);\n",
              "    height: 32px;\n",
              "    padding: 0;\n",
              "    width: 32px;\n",
              "  }\n",
              "\n",
              "  .colab-df-quickchart:hover {\n",
              "    background-color: var(--hover-bg-color);\n",
              "    box-shadow: 0 1px 2px rgba(60, 64, 67, 0.3), 0 1px 3px 1px rgba(60, 64, 67, 0.15);\n",
              "    fill: var(--button-hover-fill-color);\n",
              "  }\n",
              "\n",
              "  .colab-df-quickchart-complete:disabled,\n",
              "  .colab-df-quickchart-complete:disabled:hover {\n",
              "    background-color: var(--disabled-bg-color);\n",
              "    fill: var(--disabled-fill-color);\n",
              "    box-shadow: none;\n",
              "  }\n",
              "\n",
              "  .colab-df-spinner {\n",
              "    border: 2px solid var(--fill-color);\n",
              "    border-color: transparent;\n",
              "    border-bottom-color: var(--fill-color);\n",
              "    animation:\n",
              "      spin 1s steps(1) infinite;\n",
              "  }\n",
              "\n",
              "  @keyframes spin {\n",
              "    0% {\n",
              "      border-color: transparent;\n",
              "      border-bottom-color: var(--fill-color);\n",
              "      border-left-color: var(--fill-color);\n",
              "    }\n",
              "    20% {\n",
              "      border-color: transparent;\n",
              "      border-left-color: var(--fill-color);\n",
              "      border-top-color: var(--fill-color);\n",
              "    }\n",
              "    30% {\n",
              "      border-color: transparent;\n",
              "      border-left-color: var(--fill-color);\n",
              "      border-top-color: var(--fill-color);\n",
              "      border-right-color: var(--fill-color);\n",
              "    }\n",
              "    40% {\n",
              "      border-color: transparent;\n",
              "      border-right-color: var(--fill-color);\n",
              "      border-top-color: var(--fill-color);\n",
              "    }\n",
              "    60% {\n",
              "      border-color: transparent;\n",
              "      border-right-color: var(--fill-color);\n",
              "    }\n",
              "    80% {\n",
              "      border-color: transparent;\n",
              "      border-right-color: var(--fill-color);\n",
              "      border-bottom-color: var(--fill-color);\n",
              "    }\n",
              "    90% {\n",
              "      border-color: transparent;\n",
              "      border-bottom-color: var(--fill-color);\n",
              "    }\n",
              "  }\n",
              "</style>\n",
              "\n",
              "  <script>\n",
              "    async function quickchart(key) {\n",
              "      const quickchartButtonEl =\n",
              "        document.querySelector('#' + key + ' button');\n",
              "      quickchartButtonEl.disabled = true;  // To prevent multiple clicks.\n",
              "      quickchartButtonEl.classList.add('colab-df-spinner');\n",
              "      try {\n",
              "        const charts = await google.colab.kernel.invokeFunction(\n",
              "            'suggestCharts', [key], {});\n",
              "      } catch (error) {\n",
              "        console.error('Error during call to suggestCharts:', error);\n",
              "      }\n",
              "      quickchartButtonEl.classList.remove('colab-df-spinner');\n",
              "      quickchartButtonEl.classList.add('colab-df-quickchart-complete');\n",
              "    }\n",
              "    (() => {\n",
              "      let quickchartButtonEl =\n",
              "        document.querySelector('#df-35831dd7-3af9-4f94-8e9b-372c50ea3462 button');\n",
              "      quickchartButtonEl.style.display =\n",
              "        google.colab.kernel.accessAllowed ? 'block' : 'none';\n",
              "    })();\n",
              "  </script>\n",
              "</div>\n",
              "\n",
              "  <div id=\"id_12d17f4b-21b3-4db1-bce9-efe3576c7fa1\">\n",
              "    <style>\n",
              "      .colab-df-generate {\n",
              "        background-color: #E8F0FE;\n",
              "        border: none;\n",
              "        border-radius: 50%;\n",
              "        cursor: pointer;\n",
              "        display: none;\n",
              "        fill: #1967D2;\n",
              "        height: 32px;\n",
              "        padding: 0 0 0 0;\n",
              "        width: 32px;\n",
              "      }\n",
              "\n",
              "      .colab-df-generate:hover {\n",
              "        background-color: #E2EBFA;\n",
              "        box-shadow: 0px 1px 2px rgba(60, 64, 67, 0.3), 0px 1px 3px 1px rgba(60, 64, 67, 0.15);\n",
              "        fill: #174EA6;\n",
              "      }\n",
              "\n",
              "      [theme=dark] .colab-df-generate {\n",
              "        background-color: #3B4455;\n",
              "        fill: #D2E3FC;\n",
              "      }\n",
              "\n",
              "      [theme=dark] .colab-df-generate:hover {\n",
              "        background-color: #434B5C;\n",
              "        box-shadow: 0px 1px 3px 1px rgba(0, 0, 0, 0.15);\n",
              "        filter: drop-shadow(0px 1px 2px rgba(0, 0, 0, 0.3));\n",
              "        fill: #FFFFFF;\n",
              "      }\n",
              "    </style>\n",
              "    <button class=\"colab-df-generate\" onclick=\"generateWithVariable('top_products_by_department')\"\n",
              "            title=\"Generate code using this dataframe.\"\n",
              "            style=\"display:none;\">\n",
              "\n",
              "  <svg xmlns=\"http://www.w3.org/2000/svg\" height=\"24px\"viewBox=\"0 0 24 24\"\n",
              "       width=\"24px\">\n",
              "    <path d=\"M7,19H8.4L18.45,9,17,7.55,7,17.6ZM5,21V16.75L18.45,3.32a2,2,0,0,1,2.83,0l1.4,1.43a1.91,1.91,0,0,1,.58,1.4,1.91,1.91,0,0,1-.58,1.4L9.25,21ZM18.45,9,17,7.55Zm-12,3A5.31,5.31,0,0,0,4.9,8.1,5.31,5.31,0,0,0,1,6.5,5.31,5.31,0,0,0,4.9,4.9,5.31,5.31,0,0,0,6.5,1,5.31,5.31,0,0,0,8.1,4.9,5.31,5.31,0,0,0,12,6.5,5.46,5.46,0,0,0,6.5,12Z\"/>\n",
              "  </svg>\n",
              "    </button>\n",
              "    <script>\n",
              "      (() => {\n",
              "      const buttonEl =\n",
              "        document.querySelector('#id_12d17f4b-21b3-4db1-bce9-efe3576c7fa1 button.colab-df-generate');\n",
              "      buttonEl.style.display =\n",
              "        google.colab.kernel.accessAllowed ? 'block' : 'none';\n",
              "\n",
              "      buttonEl.onclick = () => {\n",
              "        google.colab.notebook.generateWithVariable('top_products_by_department');\n",
              "      }\n",
              "      })();\n",
              "    </script>\n",
              "  </div>\n",
              "\n",
              "    </div>\n",
              "  </div>\n"
            ],
            "application/vnd.google.colaboratory.intrinsic+json": {
              "type": "dataframe",
              "variable_name": "top_products_by_department",
              "summary": "{\n  \"name\": \"top_products_by_department\",\n  \"rows\": 210,\n  \"fields\": [\n    {\n      \"column\": \"department\",\n      \"properties\": {\n        \"dtype\": \"category\",\n        \"num_unique_values\": 21,\n        \"samples\": [\n          \"alcohol\",\n          \"personal care\",\n          \"other\"\n        ],\n        \"semantic_type\": \"\",\n        \"description\": \"\"\n      }\n    },\n    {\n      \"column\": \"product_id\",\n      \"properties\": {\n        \"dtype\": \"number\",\n        \"std\": 14393,\n        \"min\": 34,\n        \"max\": 49355,\n        \"num_unique_values\": 210,\n        \"samples\": [\n          44632,\n          33493,\n          40310\n        ],\n        \"semantic_type\": \"\",\n        \"description\": \"\"\n      }\n    },\n    {\n      \"column\": \"product_name\",\n      \"properties\": {\n        \"dtype\": \"string\",\n        \"num_unique_values\": 210,\n        \"samples\": [\n          \"Sparkling Water Grapefruit\",\n          \"Cotton Swabs\",\n          \"Oven Roasted Turkey Breast\"\n        ],\n        \"semantic_type\": \"\",\n        \"description\": \"\"\n      }\n    },\n    {\n      \"column\": \"total_sales\",\n      \"properties\": {\n        \"dtype\": \"number\",\n        \"std\": 56953,\n        \"min\": 473,\n        \"max\": 491291,\n        \"num_unique_values\": 208,\n        \"samples\": [\n          21024,\n          5894,\n          61669\n        ],\n        \"semantic_type\": \"\",\n        \"description\": \"\"\n      }\n    },\n    {\n      \"column\": \"unique_buyers\",\n      \"properties\": {\n        \"dtype\": \"number\",\n        \"std\": 56953,\n        \"min\": 473,\n        \"max\": 491291,\n        \"num_unique_values\": 208,\n        \"samples\": [\n          21024,\n          5894,\n          61669\n        ],\n        \"semantic_type\": \"\",\n        \"description\": \"\"\n      }\n    },\n    {\n      \"column\": \"reorder_count\",\n      \"properties\": {\n        \"dtype\": \"number\",\n        \"std\": 46277.992575771175,\n        \"min\": 151.0,\n        \"max\": 415166.0,\n        \"num_unique_values\": 209,\n        \"samples\": [\n          61175.0,\n          1575.0,\n          13376.0\n        ],\n        \"semantic_type\": \"\",\n        \"description\": \"\"\n      }\n    },\n    {\n      \"column\": \"reorder_percentage\",\n      \"properties\": {\n        \"dtype\": \"number\",\n        \"std\": 13.607057832179114,\n        \"min\": 16.700336700336702,\n        \"max\": 84.505110006086,\n        \"num_unique_values\": 210,\n        \"samples\": [\n          77.19729951416492,\n          16.700336700336702,\n          63.798530954879325\n        ],\n        \"semantic_type\": \"\",\n        \"description\": \"\"\n      }\n    }\n  ]\n}"
            }
          },
          "metadata": {},
          "execution_count": 21
        }
      ]
    }
  ]
}